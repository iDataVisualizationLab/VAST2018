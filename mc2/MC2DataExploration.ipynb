{
 "cells": [
  {
   "cell_type": "code",
   "execution_count": 1,
   "metadata": {
    "collapsed": true
   },
   "outputs": [],
   "source": [
    "import graphlab"
   ]
  },
  {
   "cell_type": "code",
   "execution_count": 2,
   "metadata": {
    "collapsed": false
   },
   "outputs": [
    {
     "name": "stdout",
     "output_type": "stream",
     "text": [
      "This non-commercial license of GraphLab Create for academic use is assigned to vung.pham@ttu.edu and will expire on June 18, 2019.\n"
     ]
    },
    {
     "name": "stderr",
     "output_type": "stream",
     "text": [
      "[INFO] graphlab.cython.cy_server: GraphLab Create v2.1 started. Logging: /tmp/graphlab_server_1529448808.log\n"
     ]
    },
    {
     "data": {
      "text/html": [
       "<pre>Finished parsing file /Users/idvlab/Documents/TTU/htdocs/VAST2018/mc2/Boonsong Lekagul waterways readings.csv</pre>"
      ],
      "text/plain": [
       "Finished parsing file /Users/idvlab/Documents/TTU/htdocs/VAST2018/mc2/Boonsong Lekagul waterways readings.csv"
      ]
     },
     "metadata": {},
     "output_type": "display_data"
    },
    {
     "data": {
      "text/html": [
       "<pre>Parsing completed. Parsed 100 lines in 0.246207 secs.</pre>"
      ],
      "text/plain": [
       "Parsing completed. Parsed 100 lines in 0.246207 secs."
      ]
     },
     "metadata": {},
     "output_type": "display_data"
    },
    {
     "name": "stdout",
     "output_type": "stream",
     "text": [
      "------------------------------------------------------\n",
      "Inferred types from first 100 line(s) of file as \n",
      "column_type_hints=[int,float,str,str,str]\n",
      "If parsing fails due to incorrect types, you can correct\n",
      "the inferred type list above and pass it to read_csv in\n",
      "the column_type_hints argument\n",
      "------------------------------------------------------\n"
     ]
    },
    {
     "data": {
      "text/html": [
       "<pre>Finished parsing file /Users/idvlab/Documents/TTU/htdocs/VAST2018/mc2/Boonsong Lekagul waterways readings.csv</pre>"
      ],
      "text/plain": [
       "Finished parsing file /Users/idvlab/Documents/TTU/htdocs/VAST2018/mc2/Boonsong Lekagul waterways readings.csv"
      ]
     },
     "metadata": {},
     "output_type": "display_data"
    },
    {
     "data": {
      "text/html": [
       "<pre>Parsing completed. Parsed 136824 lines in 0.113355 secs.</pre>"
      ],
      "text/plain": [
       "Parsing completed. Parsed 136824 lines in 0.113355 secs."
      ]
     },
     "metadata": {},
     "output_type": "display_data"
    }
   ],
   "source": [
    "chem = graphlab.SFrame(\"Boonsong Lekagul waterways readings.csv\")"
   ]
  },
  {
   "cell_type": "code",
   "execution_count": 5,
   "metadata": {
    "collapsed": false
   },
   "outputs": [],
   "source": [
    "graphlab.canvas.set_target('browser')"
   ]
  },
  {
   "cell_type": "code",
   "execution_count": 6,
   "metadata": {
    "collapsed": false
   },
   "outputs": [
    {
     "name": "stdout",
     "output_type": "stream",
     "text": [
      "Canvas is accessible via web browser at the URL: http://localhost:55874/index.html\n",
      "Opening Canvas in default web browser.\n"
     ]
    }
   ],
   "source": [
    "chem.show()"
   ]
  },
  {
   "cell_type": "code",
   "execution_count": 7,
   "metadata": {
    "collapsed": false
   },
   "outputs": [],
   "source": [
    "import plotly\n",
    "plotly.tools.set_credentials_file(username='phamvanvung', api_key='T9A23irvuJyYV7poUFgA')\n",
    "import plotly.plotly as py\n",
    "import plotly.graph_objs as go\n",
    "import numpy as np\n",
    "from dateutil.parser import parse"
   ]
  },
  {
   "cell_type": "code",
   "execution_count": 8,
   "metadata": {
    "collapsed": true
   },
   "outputs": [],
   "source": [
    "boonsri = chem[chem[\"location\"]==\"Boonsri\"]\n",
    "boonsri_Methylosmoline = boonsri[boonsri[\"measure\"]==\"Methylosmoline\"]\n",
    "x = boonsri_Methylosmoline[\"sample date\"]\n",
    "x = x.apply(parse)\n",
    "y = boonsri_Methylosmoline[\"value\"]\n",
    "trace = go.Scatter(\n",
    "    x = list(x),\n",
    "    y = list(y)\n",
    ")\n"
   ]
  },
  {
   "cell_type": "code",
   "execution_count": 9,
   "metadata": {
    "collapsed": false
   },
   "outputs": [
    {
     "data": {
      "text/plain": [
       "<bound method SFrame.num_rows of Columns:\n",
       "\tid\tint\n",
       "\tvalue\tfloat\n",
       "\tlocation\tstr\n",
       "\tsample date\tstr\n",
       "\tmeasure\tstr\n",
       "\n",
       "Rows: Unknown\n",
       "\n",
       "Data:\n",
       "+------+-------+----------+-------------+---------------------------+\n",
       "|  id  | value | location | sample date |          measure          |\n",
       "+------+-------+----------+-------------+---------------------------+\n",
       "| 2221 |  2.0  | Boonsri  |  11-Jan-98  |     Water temperature     |\n",
       "| 2223 |  9.1  | Boonsri  |  11-Jan-98  |      Dissolved oxygen     |\n",
       "| 2227 |  0.33 | Boonsri  |  11-Jan-98  |          Ammonium         |\n",
       "| 2228 |  0.01 | Boonsri  |  11-Jan-98  |          Nitrites         |\n",
       "| 2229 |  1.47 | Boonsri  |  11-Jan-98  |          Nitrates         |\n",
       "| 2230 |  0.06 | Boonsri  |  11-Jan-98  | Orthophosphate-phosphorus |\n",
       "| 2231 |  0.09 | Boonsri  |  11-Jan-98  |      Total phosphorus     |\n",
       "| 2232 |  13.9 | Boonsri  |  11-Jan-98  |           Sodium          |\n",
       "| 2233 |  3.5  | Boonsri  |  11-Jan-98  |         Potassium         |\n",
       "| 2234 |  52.0 | Boonsri  |  11-Jan-98  |          Calcium          |\n",
       "+------+-------+----------+-------------+---------------------------+\n",
       "[? rows x 5 columns]\n",
       "Note: Only the head of the SFrame is printed. This SFrame is lazily evaluated.\n",
       "You can use sf.materialize() to force materialization.>"
      ]
     },
     "execution_count": 9,
     "metadata": {},
     "output_type": "execute_result"
    }
   ],
   "source": [
    "boonsri.num_rows"
   ]
  },
  {
   "cell_type": "code",
   "execution_count": 10,
   "metadata": {
    "collapsed": true
   },
   "outputs": [],
   "source": [
    "boonsri_Water_temperature = boonsri[boonsri[\"measure\"]==\"Water temperature\"]\n",
    "x = boonsri_Water_temperature[\"sample date\"]\n",
    "x = x.apply(parse)\n",
    "y = boonsri_Water_temperature[\"value\"]\n",
    "trace_Water_temperature = go.Scatter(\n",
    "    x = list(x),\n",
    "    y = list(y)\n",
    ")"
   ]
  },
  {
   "cell_type": "code",
   "execution_count": 11,
   "metadata": {
    "collapsed": false,
    "scrolled": true
   },
   "outputs": [
    {
     "data": {
      "text/html": [
       "<iframe id=\"igraph\" scrolling=\"no\" style=\"border:none;\" seamless=\"seamless\" src=\"https://plot.ly/~phamvanvung/110.embed\" height=\"525px\" width=\"100%\"></iframe>"
      ],
      "text/plain": [
       "<plotly.tools.PlotlyDisplay object>"
      ]
     },
     "execution_count": 11,
     "metadata": {},
     "output_type": "execute_result"
    }
   ],
   "source": [
    "data = [trace, trace_Water_temperature]\n",
    "py.iplot(data)"
   ]
  },
  {
   "cell_type": "code",
   "execution_count": 12,
   "metadata": {
    "collapsed": true
   },
   "outputs": [],
   "source": [
    "from numpy import *"
   ]
  },
  {
   "cell_type": "code",
   "execution_count": 13,
   "metadata": {
    "collapsed": true
   },
   "outputs": [],
   "source": [
    "import pylab"
   ]
  },
  {
   "cell_type": "code",
   "execution_count": 14,
   "metadata": {
    "collapsed": false
   },
   "outputs": [
    {
     "name": "stdout",
     "output_type": "stream",
     "text": [
      "Canvas is accessible via web browser at the URL: http://localhost:55874/index.html\n",
      "Opening Canvas in default web browser.\n"
     ]
    }
   ],
   "source": [
    "x.show()"
   ]
  },
  {
   "cell_type": "code",
   "execution_count": 17,
   "metadata": {
    "collapsed": true
   },
   "outputs": [],
   "source": [
    "graphlab.canvas.set_target('browser')"
   ]
  },
  {
   "cell_type": "code",
   "execution_count": 18,
   "metadata": {
    "collapsed": false
   },
   "outputs": [
    {
     "name": "stdout",
     "output_type": "stream",
     "text": [
      "Canvas is accessible via web browser at the URL: http://localhost:50514/index.html\n",
      "Opening Canvas in default web browser.\n"
     ]
    }
   ],
   "source": [
    "x.show()"
   ]
  },
  {
   "cell_type": "code",
   "execution_count": 15,
   "metadata": {
    "collapsed": true
   },
   "outputs": [],
   "source": [
    "minDate = min(x)"
   ]
  },
  {
   "cell_type": "code",
   "execution_count": 16,
   "metadata": {
    "collapsed": false
   },
   "outputs": [],
   "source": [
    "xdays = x.apply(lambda d: (d-minDate).days)"
   ]
  },
  {
   "cell_type": "code",
   "execution_count": 17,
   "metadata": {
    "collapsed": false
   },
   "outputs": [
    {
     "data": {
      "text/plain": [
       "dtype: int\n",
       "Rows: 984\n",
       "[0, 35, 60, 90, 90, 118, 118, 146, 146, 181, 181, 209, 209, 237, 237, 265, 265, 300, 300, 328, 328, 363, 363, 363, 396, 396, 396, 424, 424, 424, 460, 460, 460, 487, 487, 487, 511, 511, 511, 557, 557, 557, 585, 585, 585, 613, 613, 613, 637, 637, 637, 663, 663, 663, 697, 697, 697, 733, 733, 733, 760, 760, 760, 789, 789, 789, 824, 824, 824, 852, 852, 852, 880, 880, 880, 915, 915, 915, 949, 949, 949, 971, 971, 971, 999, 999, 999, 1034, 1034, 1034, 1062, 1062, 1062, 1105, 1105, 1105, 1154, 1154, 1154, 1194, ... ]"
      ]
     },
     "execution_count": 17,
     "metadata": {},
     "output_type": "execute_result"
    }
   ],
   "source": [
    "xdays"
   ]
  },
  {
   "cell_type": "code",
   "execution_count": 18,
   "metadata": {
    "collapsed": true
   },
   "outputs": [],
   "source": [
    "z5 = polyfit(xdays, y, 5)\n",
    "p5 = poly1d(z5)\n",
    "z2 = polyfit(xdays, y, 2)\n",
    "p2 = poly1d(z2)"
   ]
  },
  {
   "cell_type": "code",
   "execution_count": 19,
   "metadata": {
    "collapsed": true
   },
   "outputs": [],
   "source": [
    "xx = linspace(0, max(xdays), max(xdays)+1)"
   ]
  },
  {
   "cell_type": "code",
   "execution_count": 20,
   "metadata": {
    "collapsed": false
   },
   "outputs": [
    {
     "data": {
      "text/plain": [
       "array([  0.00000000e+00,   1.00000000e+00,   2.00000000e+00, ...,\n",
       "         6.90600000e+03,   6.90700000e+03,   6.90800000e+03])"
      ]
     },
     "execution_count": 20,
     "metadata": {},
     "output_type": "execute_result"
    }
   ],
   "source": [
    "xx"
   ]
  },
  {
   "cell_type": "code",
   "execution_count": 21,
   "metadata": {
    "collapsed": true
   },
   "outputs": [],
   "source": [
    "p5xx = p5(xx)\n",
    "p2xx = p2(xx)"
   ]
  },
  {
   "cell_type": "code",
   "execution_count": 22,
   "metadata": {
    "collapsed": false
   },
   "outputs": [
    {
     "name": "stdout",
     "output_type": "stream",
     "text": [
      "[  9.70495451   9.71199168   9.71901967 ...,  17.24356677  17.25038928\n",
      "  17.25722161]\n",
      "[ 12.64855121  12.64905808  12.64956489 ...,  14.95175305  14.95191315\n",
      "  14.9520732 ]\n"
     ]
    }
   ],
   "source": [
    "print p5xx\n",
    "print p2xx"
   ]
  },
  {
   "cell_type": "code",
   "execution_count": 23,
   "metadata": {
    "collapsed": false
   },
   "outputs": [
    {
     "name": "stdout",
     "output_type": "stream",
     "text": [
      "Populating the interactive namespace from numpy and matplotlib\n"
     ]
    },
    {
     "name": "stderr",
     "output_type": "stream",
     "text": [
      "/Users/idvlab/anaconda2/lib/python2.7/site-packages/IPython/core/magics/pylab.py:161: UserWarning:\n",
      "\n",
      "pylab import has clobbered these variables: ['pylab']\n",
      "`%matplotlib` prevents importing * from pylab and numpy\n",
      "\n"
     ]
    },
    {
     "data": {
      "image/png": "[encoded data removed]",
      "text/plain": [
       "<matplotlib.figure.Figure at 0x11998c310>"
      ]
     },
     "metadata": {},
     "output_type": "display_data"
    }
   ],
   "source": [
    "%pylab inline\n",
    "pylab.plot(xdays, y, 'o', xx, p2xx, '-g', xx, p5xx, '-r')\n",
    "pylab.legend(['data to fit','2nd degree poly', '5th degree poly'])\n",
    "pylab.show()"
   ]
  },
  {
   "cell_type": "markdown",
   "metadata": {},
   "source": [
    "# Summary\n",
    "## current information\n",
    "x => date time <br/>\n",
    "xdays => number of days <br/>\n",
    "y => the measured values of water temperature <br/>\n",
    "## what we need to build\n",
    "feature1 = constant = 1 <br/>\n",
    "feature2 = t(xdays) = 984 elements <br/>\n",
    "feature3 = sin(2*Pi*t/365) <br/>\n",
    "feature4 = cos(2*Pi*t/365) <br/>\n"
   ]
  },
  {
   "cell_type": "code",
   "execution_count": 24,
   "metadata": {
    "collapsed": true
   },
   "outputs": [],
   "source": [
    "feature1 = xdays.apply(lambda d: 1)"
   ]
  },
  {
   "cell_type": "code",
   "execution_count": 25,
   "metadata": {
    "collapsed": false
   },
   "outputs": [
    {
     "data": {
      "text/plain": [
       "dtype: int\n",
       "Rows: 984\n",
       "[1, 1, 1, 1, 1, 1, 1, 1, 1, 1, 1, 1, 1, 1, 1, 1, 1, 1, 1, 1, 1, 1, 1, 1, 1, 1, 1, 1, 1, 1, 1, 1, 1, 1, 1, 1, 1, 1, 1, 1, 1, 1, 1, 1, 1, 1, 1, 1, 1, 1, 1, 1, 1, 1, 1, 1, 1, 1, 1, 1, 1, 1, 1, 1, 1, 1, 1, 1, 1, 1, 1, 1, 1, 1, 1, 1, 1, 1, 1, 1, 1, 1, 1, 1, 1, 1, 1, 1, 1, 1, 1, 1, 1, 1, 1, 1, 1, 1, 1, 1, ... ]"
      ]
     },
     "execution_count": 25,
     "metadata": {},
     "output_type": "execute_result"
    }
   ],
   "source": [
    "feature1"
   ]
  },
  {
   "cell_type": "code",
   "execution_count": 26,
   "metadata": {
    "collapsed": true
   },
   "outputs": [],
   "source": [
    "feature2 = xdays"
   ]
  },
  {
   "cell_type": "code",
   "execution_count": 27,
   "metadata": {
    "collapsed": false
   },
   "outputs": [
    {
     "name": "stdout",
     "output_type": "stream",
     "text": [
      "3.14159265359\n"
     ]
    }
   ],
   "source": [
    "print math.pi"
   ]
  },
  {
   "cell_type": "code",
   "execution_count": 28,
   "metadata": {
    "collapsed": true
   },
   "outputs": [],
   "source": [
    "feature3 = xdays.apply(lambda d: math.sin(2*math.pi*d/365))"
   ]
  },
  {
   "cell_type": "code",
   "execution_count": 29,
   "metadata": {
    "collapsed": true
   },
   "outputs": [],
   "source": [
    "feature4 = xdays.apply(lambda d: math.cos(2*math.pi*d/365))"
   ]
  },
  {
   "cell_type": "code",
   "execution_count": 30,
   "metadata": {
    "collapsed": false
   },
   "outputs": [
    {
     "data": {
      "text/html": [
       "<div style=\"max-height:1000px;max-width:1500px;overflow:auto;\"><table frame=\"box\" rules=\"cols\">\n",
       "    <tr>\n",
       "        <th style=\"padding-left: 1em; padding-right: 1em; text-align: center\">id</th>\n",
       "        <th style=\"padding-left: 1em; padding-right: 1em; text-align: center\">value</th>\n",
       "        <th style=\"padding-left: 1em; padding-right: 1em; text-align: center\">location</th>\n",
       "        <th style=\"padding-left: 1em; padding-right: 1em; text-align: center\">sample date</th>\n",
       "        <th style=\"padding-left: 1em; padding-right: 1em; text-align: center\">measure</th>\n",
       "    </tr>\n",
       "    <tr>\n",
       "        <td style=\"padding-left: 1em; padding-right: 1em; text-align: center; vertical-align: top\">2221</td>\n",
       "        <td style=\"padding-left: 1em; padding-right: 1em; text-align: center; vertical-align: top\">2.0</td>\n",
       "        <td style=\"padding-left: 1em; padding-right: 1em; text-align: center; vertical-align: top\">Boonsri</td>\n",
       "        <td style=\"padding-left: 1em; padding-right: 1em; text-align: center; vertical-align: top\">11-Jan-98</td>\n",
       "        <td style=\"padding-left: 1em; padding-right: 1em; text-align: center; vertical-align: top\">Water temperature</td>\n",
       "    </tr>\n",
       "    <tr>\n",
       "        <td style=\"padding-left: 1em; padding-right: 1em; text-align: center; vertical-align: top\">2261</td>\n",
       "        <td style=\"padding-left: 1em; padding-right: 1em; text-align: center; vertical-align: top\">5.0</td>\n",
       "        <td style=\"padding-left: 1em; padding-right: 1em; text-align: center; vertical-align: top\">Boonsri</td>\n",
       "        <td style=\"padding-left: 1em; padding-right: 1em; text-align: center; vertical-align: top\">15-Feb-98</td>\n",
       "        <td style=\"padding-left: 1em; padding-right: 1em; text-align: center; vertical-align: top\">Water temperature</td>\n",
       "    </tr>\n",
       "    <tr>\n",
       "        <td style=\"padding-left: 1em; padding-right: 1em; text-align: center; vertical-align: top\">2301</td>\n",
       "        <td style=\"padding-left: 1em; padding-right: 1em; text-align: center; vertical-align: top\">2.0</td>\n",
       "        <td style=\"padding-left: 1em; padding-right: 1em; text-align: center; vertical-align: top\">Boonsri</td>\n",
       "        <td style=\"padding-left: 1em; padding-right: 1em; text-align: center; vertical-align: top\">12-Mar-98</td>\n",
       "        <td style=\"padding-left: 1em; padding-right: 1em; text-align: center; vertical-align: top\">Water temperature</td>\n",
       "    </tr>\n",
       "    <tr>\n",
       "        <td style=\"padding-left: 1em; padding-right: 1em; text-align: center; vertical-align: top\">2341</td>\n",
       "        <td style=\"padding-left: 1em; padding-right: 1em; text-align: center; vertical-align: top\">8.0</td>\n",
       "        <td style=\"padding-left: 1em; padding-right: 1em; text-align: center; vertical-align: top\">Boonsri</td>\n",
       "        <td style=\"padding-left: 1em; padding-right: 1em; text-align: center; vertical-align: top\">11-Apr-98</td>\n",
       "        <td style=\"padding-left: 1em; padding-right: 1em; text-align: center; vertical-align: top\">Water temperature</td>\n",
       "    </tr>\n",
       "    <tr>\n",
       "        <td style=\"padding-left: 1em; padding-right: 1em; text-align: center; vertical-align: top\">2704</td>\n",
       "        <td style=\"padding-left: 1em; padding-right: 1em; text-align: center; vertical-align: top\">7.0</td>\n",
       "        <td style=\"padding-left: 1em; padding-right: 1em; text-align: center; vertical-align: top\">Boonsri</td>\n",
       "        <td style=\"padding-left: 1em; padding-right: 1em; text-align: center; vertical-align: top\">11-Apr-98</td>\n",
       "        <td style=\"padding-left: 1em; padding-right: 1em; text-align: center; vertical-align: top\">Water temperature</td>\n",
       "    </tr>\n",
       "    <tr>\n",
       "        <td style=\"padding-left: 1em; padding-right: 1em; text-align: center; vertical-align: top\">2383</td>\n",
       "        <td style=\"padding-left: 1em; padding-right: 1em; text-align: center; vertical-align: top\">15.0</td>\n",
       "        <td style=\"padding-left: 1em; padding-right: 1em; text-align: center; vertical-align: top\">Boonsri</td>\n",
       "        <td style=\"padding-left: 1em; padding-right: 1em; text-align: center; vertical-align: top\">9-May-98</td>\n",
       "        <td style=\"padding-left: 1em; padding-right: 1em; text-align: center; vertical-align: top\">Water temperature</td>\n",
       "    </tr>\n",
       "    <tr>\n",
       "        <td style=\"padding-left: 1em; padding-right: 1em; text-align: center; vertical-align: top\">2745</td>\n",
       "        <td style=\"padding-left: 1em; padding-right: 1em; text-align: center; vertical-align: top\">13.0</td>\n",
       "        <td style=\"padding-left: 1em; padding-right: 1em; text-align: center; vertical-align: top\">Boonsri</td>\n",
       "        <td style=\"padding-left: 1em; padding-right: 1em; text-align: center; vertical-align: top\">9-May-98</td>\n",
       "        <td style=\"padding-left: 1em; padding-right: 1em; text-align: center; vertical-align: top\">Water temperature</td>\n",
       "    </tr>\n",
       "    <tr>\n",
       "        <td style=\"padding-left: 1em; padding-right: 1em; text-align: center; vertical-align: top\">2423</td>\n",
       "        <td style=\"padding-left: 1em; padding-right: 1em; text-align: center; vertical-align: top\">24.5</td>\n",
       "        <td style=\"padding-left: 1em; padding-right: 1em; text-align: center; vertical-align: top\">Boonsri</td>\n",
       "        <td style=\"padding-left: 1em; padding-right: 1em; text-align: center; vertical-align: top\">6-Jun-98</td>\n",
       "        <td style=\"padding-left: 1em; padding-right: 1em; text-align: center; vertical-align: top\">Water temperature</td>\n",
       "    </tr>\n",
       "    <tr>\n",
       "        <td style=\"padding-left: 1em; padding-right: 1em; text-align: center; vertical-align: top\">2785</td>\n",
       "        <td style=\"padding-left: 1em; padding-right: 1em; text-align: center; vertical-align: top\">24.5</td>\n",
       "        <td style=\"padding-left: 1em; padding-right: 1em; text-align: center; vertical-align: top\">Boonsri</td>\n",
       "        <td style=\"padding-left: 1em; padding-right: 1em; text-align: center; vertical-align: top\">6-Jun-98</td>\n",
       "        <td style=\"padding-left: 1em; padding-right: 1em; text-align: center; vertical-align: top\">Water temperature</td>\n",
       "    </tr>\n",
       "    <tr>\n",
       "        <td style=\"padding-left: 1em; padding-right: 1em; text-align: center; vertical-align: top\">2464</td>\n",
       "        <td style=\"padding-left: 1em; padding-right: 1em; text-align: center; vertical-align: top\">19.0</td>\n",
       "        <td style=\"padding-left: 1em; padding-right: 1em; text-align: center; vertical-align: top\">Boonsri</td>\n",
       "        <td style=\"padding-left: 1em; padding-right: 1em; text-align: center; vertical-align: top\">11-Jul-98</td>\n",
       "        <td style=\"padding-left: 1em; padding-right: 1em; text-align: center; vertical-align: top\">Water temperature</td>\n",
       "    </tr>\n",
       "</table>\n",
       "[? rows x 5 columns]<br/>Note: Only the head of the SFrame is printed. This SFrame is lazily evaluated.<br/>You can use sf.materialize() to force materialization.\n",
       "</div>"
      ],
      "text/plain": [
       "Columns:\n",
       "\tid\tint\n",
       "\tvalue\tfloat\n",
       "\tlocation\tstr\n",
       "\tsample date\tstr\n",
       "\tmeasure\tstr\n",
       "\n",
       "Rows: Unknown\n",
       "\n",
       "Data:\n",
       "+------+-------+----------+-------------+-------------------+\n",
       "|  id  | value | location | sample date |      measure      |\n",
       "+------+-------+----------+-------------+-------------------+\n",
       "| 2221 |  2.0  | Boonsri  |  11-Jan-98  | Water temperature |\n",
       "| 2261 |  5.0  | Boonsri  |  15-Feb-98  | Water temperature |\n",
       "| 2301 |  2.0  | Boonsri  |  12-Mar-98  | Water temperature |\n",
       "| 2341 |  8.0  | Boonsri  |  11-Apr-98  | Water temperature |\n",
       "| 2704 |  7.0  | Boonsri  |  11-Apr-98  | Water temperature |\n",
       "| 2383 |  15.0 | Boonsri  |   9-May-98  | Water temperature |\n",
       "| 2745 |  13.0 | Boonsri  |   9-May-98  | Water temperature |\n",
       "| 2423 |  24.5 | Boonsri  |   6-Jun-98  | Water temperature |\n",
       "| 2785 |  24.5 | Boonsri  |   6-Jun-98  | Water temperature |\n",
       "| 2464 |  19.0 | Boonsri  |  11-Jul-98  | Water temperature |\n",
       "+------+-------+----------+-------------+-------------------+\n",
       "[? rows x 5 columns]\n",
       "Note: Only the head of the SFrame is printed. This SFrame is lazily evaluated.\n",
       "You can use sf.materialize() to force materialization."
      ]
     },
     "execution_count": 30,
     "metadata": {},
     "output_type": "execute_result"
    }
   ],
   "source": [
    "boonsri_Water_temperature"
   ]
  },
  {
   "cell_type": "code",
   "execution_count": 31,
   "metadata": {
    "collapsed": true
   },
   "outputs": [],
   "source": [
    "boonsri_Water_temperature[\"feature1\"] = feature1\n",
    "boonsri_Water_temperature[\"feature2\"] = feature2\n",
    "boonsri_Water_temperature[\"feature3\"] = feature3\n",
    "boonsri_Water_temperature[\"feature4\"] = feature4"
   ]
  },
  {
   "cell_type": "code",
   "execution_count": 32,
   "metadata": {
    "collapsed": false
   },
   "outputs": [
    {
     "name": "stdout",
     "output_type": "stream",
     "text": [
      "PROGRESS: Creating a validation set from 5 percent of training data. This may take a while.\n",
      "          You can set ``validation_set=None`` to disable validation tracking.\n",
      "\n"
     ]
    },
    {
     "data": {
      "text/html": [
       "<pre>WARNING: Detected extremely low variance for feature(s) 'feature1' because all entries are nearly the same.\n",
       "Proceeding with model training using all features. If the model does not provide results of adequate quality, exclude the above mentioned feature(s) from the input dataset.</pre>"
      ],
      "text/plain": [
       "WARNING: Detected extremely low variance for feature(s) 'feature1' because all entries are nearly the same.\n",
       "Proceeding with model training using all features. If the model does not provide results of adequate quality, exclude the above mentioned feature(s) from the input dataset."
      ]
     },
     "metadata": {},
     "output_type": "display_data"
    },
    {
     "data": {
      "text/html": [
       "<pre>Linear regression:</pre>"
      ],
      "text/plain": [
       "Linear regression:"
      ]
     },
     "metadata": {},
     "output_type": "display_data"
    },
    {
     "data": {
      "text/html": [
       "<pre>--------------------------------------------------------</pre>"
      ],
      "text/plain": [
       "--------------------------------------------------------"
      ]
     },
     "metadata": {},
     "output_type": "display_data"
    },
    {
     "data": {
      "text/html": [
       "<pre>Number of examples          : 947</pre>"
      ],
      "text/plain": [
       "Number of examples          : 947"
      ]
     },
     "metadata": {},
     "output_type": "display_data"
    },
    {
     "data": {
      "text/html": [
       "<pre>Number of features          : 4</pre>"
      ],
      "text/plain": [
       "Number of features          : 4"
      ]
     },
     "metadata": {},
     "output_type": "display_data"
    },
    {
     "data": {
      "text/html": [
       "<pre>Number of unpacked features : 4</pre>"
      ],
      "text/plain": [
       "Number of unpacked features : 4"
      ]
     },
     "metadata": {},
     "output_type": "display_data"
    },
    {
     "data": {
      "text/html": [
       "<pre>Number of coefficients    : 5</pre>"
      ],
      "text/plain": [
       "Number of coefficients    : 5"
      ]
     },
     "metadata": {},
     "output_type": "display_data"
    },
    {
     "data": {
      "text/html": [
       "<pre>Starting Newton Method</pre>"
      ],
      "text/plain": [
       "Starting Newton Method"
      ]
     },
     "metadata": {},
     "output_type": "display_data"
    },
    {
     "data": {
      "text/html": [
       "<pre>--------------------------------------------------------</pre>"
      ],
      "text/plain": [
       "--------------------------------------------------------"
      ]
     },
     "metadata": {},
     "output_type": "display_data"
    },
    {
     "data": {
      "text/html": [
       "<pre>+-----------+----------+--------------+--------------------+----------------------+---------------+-----------------+</pre>"
      ],
      "text/plain": [
       "+-----------+----------+--------------+--------------------+----------------------+---------------+-----------------+"
      ]
     },
     "metadata": {},
     "output_type": "display_data"
    },
    {
     "data": {
      "text/html": [
       "<pre>| Iteration | Passes   | Elapsed Time | Training-max_error | Validation-max_error | Training-rmse | Validation-rmse |</pre>"
      ],
      "text/plain": [
       "| Iteration | Passes   | Elapsed Time | Training-max_error | Validation-max_error | Training-rmse | Validation-rmse |"
      ]
     },
     "metadata": {},
     "output_type": "display_data"
    },
    {
     "data": {
      "text/html": [
       "<pre>+-----------+----------+--------------+--------------------+----------------------+---------------+-----------------+</pre>"
      ],
      "text/plain": [
       "+-----------+----------+--------------+--------------------+----------------------+---------------+-----------------+"
      ]
     },
     "metadata": {},
     "output_type": "display_data"
    },
    {
     "data": {
      "text/html": [
       "<pre>| 1         | 2        | 1.027776     | 12.355315          | 6.193387             | 2.246067      | 2.031080        |</pre>"
      ],
      "text/plain": [
       "| 1         | 2        | 1.027776     | 12.355315          | 6.193387             | 2.246067      | 2.031080        |"
      ]
     },
     "metadata": {},
     "output_type": "display_data"
    },
    {
     "data": {
      "text/html": [
       "<pre>+-----------+----------+--------------+--------------------+----------------------+---------------+-----------------+</pre>"
      ],
      "text/plain": [
       "+-----------+----------+--------------+--------------------+----------------------+---------------+-----------------+"
      ]
     },
     "metadata": {},
     "output_type": "display_data"
    },
    {
     "data": {
      "text/html": [
       "<pre>SUCCESS: Optimal solution found.</pre>"
      ],
      "text/plain": [
       "SUCCESS: Optimal solution found."
      ]
     },
     "metadata": {},
     "output_type": "display_data"
    },
    {
     "data": {
      "text/html": [
       "<pre></pre>"
      ],
      "text/plain": []
     },
     "metadata": {},
     "output_type": "display_data"
    }
   ],
   "source": [
    "seasonal_model = graphlab.linear_regression.create(boonsri_Water_temperature, target='value', features = ['feature1', 'feature2', 'feature3', 'feature4'])"
   ]
  },
  {
   "cell_type": "code",
   "execution_count": 33,
   "metadata": {
    "collapsed": true
   },
   "outputs": [],
   "source": [
    "ssxx = seasonal_model.predict(boonsri_Water_temperature)"
   ]
  },
  {
   "cell_type": "code",
   "execution_count": 34,
   "metadata": {
    "collapsed": false
   },
   "outputs": [
    {
     "data": {
      "text/plain": [
       "dtype: float\n",
       "Rows: 984\n",
       "[2.1140407434187054, 2.351338321959247, 4.808666044249174, 9.596868961904782, 9.596868961904782, 14.825979464189565, 14.825979464189565, 19.572711184404834, 19.572711184404834, 23.21338143725852, 23.21338143725852, 23.485289464772265, 23.485289464772265, 21.30649512270022, 21.30649512270022, 17.174925327622322, 17.174925327622322, 10.726456832225892, 10.726456832225892, 5.973815298600109, 5.973815298600109, 2.3030125597499023, 2.3030125597499023, 2.3030125597499023, 2.210148088133373, 2.210148088133373, 2.210148088133373, 4.762852931519442, 4.762852931519442, 4.762852931519442, 10.596508750218383, 10.596508750218383, 10.596508750218383, 15.645331033315074, 15.645331033315074, 15.645331033315074, 19.656783372202618, 19.656783372202618, 19.656783372202618, 23.70555635573114, 23.70555635573114, 23.70555635573114, 22.98988108071311, 22.98988108071311, 22.98988108071311, 19.95612048059443, 19.95612048059443, 19.95612048059443, 16.02445595271857, 16.02445595271857, 16.02445595271857, 11.181788085525472, 11.181788085525472, 11.181788085525472, 5.483225052701709, 5.483225052701709, 5.483225052701709, 2.1483547997545323, 2.1483547997545323, 2.1483547997545323, 2.2456904247328744, 2.2456904247328744, 2.2456904247328744, 4.846925119317226, 4.846925119317226, 4.846925119317226, 10.495950874743734, 10.495950874743734, 10.495950874743734, 15.729403221112856, 15.729403221112856, 15.729403221112856, 20.313146874754963, 20.313146874754963, 20.313146874754963, 23.574373777678943, 23.574373777678943, 23.574373777678943, 23.142070424730996, 23.142070424730996, 23.142070424730996, 20.985987288753748, 20.985987288753748, 20.985987288753748, 16.644356481647616, 16.644356481647616, 16.644356481647616, 10.159718869325042, 10.159718869325042, 10.159718869325042, 5.567297240499512, 5.567297240499512, 5.567297240499512, 2.0316076997697454, 2.0316076997697454, 2.0316076997697454, 4.930997307115009, 4.930997307115009, 4.930997307115009, 11.509117283300096, ... ]"
      ]
     },
     "execution_count": 34,
     "metadata": {},
     "output_type": "execute_result"
    }
   ],
   "source": [
    "ssxx"
   ]
  },
  {
   "cell_type": "code",
   "execution_count": 35,
   "metadata": {
    "collapsed": false
   },
   "outputs": [
    {
     "data": {
      "text/plain": [
       "dtype: datetime\n",
       "Rows: 984\n",
       "[datetime.datetime(1998, 1, 11, 0, 0), datetime.datetime(1998, 2, 15, 0, 0), datetime.datetime(1998, 3, 12, 0, 0), datetime.datetime(1998, 4, 11, 0, 0), datetime.datetime(1998, 4, 11, 0, 0), datetime.datetime(1998, 5, 9, 0, 0), datetime.datetime(1998, 5, 9, 0, 0), datetime.datetime(1998, 6, 6, 0, 0), datetime.datetime(1998, 6, 6, 0, 0), datetime.datetime(1998, 7, 11, 0, 0), datetime.datetime(1998, 7, 11, 0, 0), datetime.datetime(1998, 8, 8, 0, 0), datetime.datetime(1998, 8, 8, 0, 0), datetime.datetime(1998, 9, 5, 0, 0), datetime.datetime(1998, 9, 5, 0, 0), datetime.datetime(1998, 10, 3, 0, 0), datetime.datetime(1998, 10, 3, 0, 0), datetime.datetime(1998, 11, 7, 0, 0), datetime.datetime(1998, 11, 7, 0, 0), datetime.datetime(1998, 12, 5, 0, 0), datetime.datetime(1998, 12, 5, 0, 0), datetime.datetime(1999, 1, 9, 0, 0), datetime.datetime(1999, 1, 9, 0, 0), datetime.datetime(1999, 1, 9, 0, 0), datetime.datetime(1999, 2, 11, 0, 0), datetime.datetime(1999, 2, 11, 0, 0), datetime.datetime(1999, 2, 11, 0, 0), datetime.datetime(1999, 3, 11, 0, 0), datetime.datetime(1999, 3, 11, 0, 0), datetime.datetime(1999, 3, 11, 0, 0), datetime.datetime(1999, 4, 16, 0, 0), datetime.datetime(1999, 4, 16, 0, 0), datetime.datetime(1999, 4, 16, 0, 0), datetime.datetime(1999, 5, 13, 0, 0), datetime.datetime(1999, 5, 13, 0, 0), datetime.datetime(1999, 5, 13, 0, 0), datetime.datetime(1999, 6, 6, 0, 0), datetime.datetime(1999, 6, 6, 0, 0), datetime.datetime(1999, 6, 6, 0, 0), datetime.datetime(1999, 7, 22, 0, 0), datetime.datetime(1999, 7, 22, 0, 0), datetime.datetime(1999, 7, 22, 0, 0), datetime.datetime(1999, 8, 19, 0, 0), datetime.datetime(1999, 8, 19, 0, 0), datetime.datetime(1999, 8, 19, 0, 0), datetime.datetime(1999, 9, 16, 0, 0), datetime.datetime(1999, 9, 16, 0, 0), datetime.datetime(1999, 9, 16, 0, 0), datetime.datetime(1999, 10, 10, 0, 0), datetime.datetime(1999, 10, 10, 0, 0), datetime.datetime(1999, 10, 10, 0, 0), datetime.datetime(1999, 11, 5, 0, 0), datetime.datetime(1999, 11, 5, 0, 0), datetime.datetime(1999, 11, 5, 0, 0), datetime.datetime(1999, 12, 9, 0, 0), datetime.datetime(1999, 12, 9, 0, 0), datetime.datetime(1999, 12, 9, 0, 0), datetime.datetime(2000, 1, 14, 0, 0), datetime.datetime(2000, 1, 14, 0, 0), datetime.datetime(2000, 1, 14, 0, 0), datetime.datetime(2000, 2, 10, 0, 0), datetime.datetime(2000, 2, 10, 0, 0), datetime.datetime(2000, 2, 10, 0, 0), datetime.datetime(2000, 3, 10, 0, 0), datetime.datetime(2000, 3, 10, 0, 0), datetime.datetime(2000, 3, 10, 0, 0), datetime.datetime(2000, 4, 14, 0, 0), datetime.datetime(2000, 4, 14, 0, 0), datetime.datetime(2000, 4, 14, 0, 0), datetime.datetime(2000, 5, 12, 0, 0), datetime.datetime(2000, 5, 12, 0, 0), datetime.datetime(2000, 5, 12, 0, 0), datetime.datetime(2000, 6, 9, 0, 0), datetime.datetime(2000, 6, 9, 0, 0), datetime.datetime(2000, 6, 9, 0, 0), datetime.datetime(2000, 7, 14, 0, 0), datetime.datetime(2000, 7, 14, 0, 0), datetime.datetime(2000, 7, 14, 0, 0), datetime.datetime(2000, 8, 17, 0, 0), datetime.datetime(2000, 8, 17, 0, 0), datetime.datetime(2000, 8, 17, 0, 0), datetime.datetime(2000, 9, 8, 0, 0), datetime.datetime(2000, 9, 8, 0, 0), datetime.datetime(2000, 9, 8, 0, 0), datetime.datetime(2000, 10, 6, 0, 0), datetime.datetime(2000, 10, 6, 0, 0), datetime.datetime(2000, 10, 6, 0, 0), datetime.datetime(2000, 11, 10, 0, 0), datetime.datetime(2000, 11, 10, 0, 0), datetime.datetime(2000, 11, 10, 0, 0), datetime.datetime(2000, 12, 8, 0, 0), datetime.datetime(2000, 12, 8, 0, 0), datetime.datetime(2000, 12, 8, 0, 0), datetime.datetime(2001, 1, 20, 0, 0), datetime.datetime(2001, 1, 20, 0, 0), datetime.datetime(2001, 1, 20, 0, 0), datetime.datetime(2001, 3, 10, 0, 0), datetime.datetime(2001, 3, 10, 0, 0), datetime.datetime(2001, 3, 10, 0, 0), datetime.datetime(2001, 4, 19, 0, 0), ... ]"
      ]
     },
     "execution_count": 35,
     "metadata": {},
     "output_type": "execute_result"
    }
   ],
   "source": [
    "x"
   ]
  },
  {
   "cell_type": "code",
   "execution_count": 36,
   "metadata": {
    "collapsed": false
   },
   "outputs": [
    {
     "data": {
      "image/png": "[encoded data removed]",
      "text/plain": [
       "<matplotlib.figure.Figure at 0x11e5ff0d0>"
      ]
     },
     "metadata": {},
     "output_type": "display_data"
    }
   ],
   "source": [
    "pylab.plot(x, boonsri_Water_temperature['value'], '.', x, ssxx, '-')\n",
    "pylab.show()"
   ]
  },
  {
   "cell_type": "code",
   "execution_count": 37,
   "metadata": {
    "collapsed": false
   },
   "outputs": [
    {
     "data": {
      "text/html": [
       "<div style=\"max-height:1000px;max-width:1500px;overflow:auto;\"><table frame=\"box\" rules=\"cols\">\n",
       "    <tr>\n",
       "        <th style=\"padding-left: 1em; padding-right: 1em; text-align: center\">id</th>\n",
       "        <th style=\"padding-left: 1em; padding-right: 1em; text-align: center\">value</th>\n",
       "        <th style=\"padding-left: 1em; padding-right: 1em; text-align: center\">location</th>\n",
       "        <th style=\"padding-left: 1em; padding-right: 1em; text-align: center\">sample date</th>\n",
       "        <th style=\"padding-left: 1em; padding-right: 1em; text-align: center\">measure</th>\n",
       "    </tr>\n",
       "    <tr>\n",
       "        <td style=\"padding-left: 1em; padding-right: 1em; text-align: center; vertical-align: top\">889270</td>\n",
       "        <td style=\"padding-left: 1em; padding-right: 1em; text-align: center; vertical-align: top\">0.263</td>\n",
       "        <td style=\"padding-left: 1em; padding-right: 1em; text-align: center; vertical-align: top\">Boonsri</td>\n",
       "        <td style=\"padding-left: 1em; padding-right: 1em; text-align: center; vertical-align: top\">21-Feb-14</td>\n",
       "        <td style=\"padding-left: 1em; padding-right: 1em; text-align: center; vertical-align: top\">Methylosmoline</td>\n",
       "    </tr>\n",
       "    <tr>\n",
       "        <td style=\"padding-left: 1em; padding-right: 1em; text-align: center; vertical-align: top\">890814</td>\n",
       "        <td style=\"padding-left: 1em; padding-right: 1em; text-align: center; vertical-align: top\">0.265</td>\n",
       "        <td style=\"padding-left: 1em; padding-right: 1em; text-align: center; vertical-align: top\">Boonsri</td>\n",
       "        <td style=\"padding-left: 1em; padding-right: 1em; text-align: center; vertical-align: top\">21-Feb-14</td>\n",
       "        <td style=\"padding-left: 1em; padding-right: 1em; text-align: center; vertical-align: top\">Methylosmoline</td>\n",
       "    </tr>\n",
       "    <tr>\n",
       "        <td style=\"padding-left: 1em; padding-right: 1em; text-align: center; vertical-align: top\">892249</td>\n",
       "        <td style=\"padding-left: 1em; padding-right: 1em; text-align: center; vertical-align: top\">0.33</td>\n",
       "        <td style=\"padding-left: 1em; padding-right: 1em; text-align: center; vertical-align: top\">Boonsri</td>\n",
       "        <td style=\"padding-left: 1em; padding-right: 1em; text-align: center; vertical-align: top\">21-Feb-14</td>\n",
       "        <td style=\"padding-left: 1em; padding-right: 1em; text-align: center; vertical-align: top\">Methylosmoline</td>\n",
       "    </tr>\n",
       "    <tr>\n",
       "        <td style=\"padding-left: 1em; padding-right: 1em; text-align: center; vertical-align: top\">889343</td>\n",
       "        <td style=\"padding-left: 1em; padding-right: 1em; text-align: center; vertical-align: top\">0.279</td>\n",
       "        <td style=\"padding-left: 1em; padding-right: 1em; text-align: center; vertical-align: top\">Boonsri</td>\n",
       "        <td style=\"padding-left: 1em; padding-right: 1em; text-align: center; vertical-align: top\">21-Mar-14</td>\n",
       "        <td style=\"padding-left: 1em; padding-right: 1em; text-align: center; vertical-align: top\">Methylosmoline</td>\n",
       "    </tr>\n",
       "    <tr>\n",
       "        <td style=\"padding-left: 1em; padding-right: 1em; text-align: center; vertical-align: top\">890887</td>\n",
       "        <td style=\"padding-left: 1em; padding-right: 1em; text-align: center; vertical-align: top\">0.327</td>\n",
       "        <td style=\"padding-left: 1em; padding-right: 1em; text-align: center; vertical-align: top\">Boonsri</td>\n",
       "        <td style=\"padding-left: 1em; padding-right: 1em; text-align: center; vertical-align: top\">21-Mar-14</td>\n",
       "        <td style=\"padding-left: 1em; padding-right: 1em; text-align: center; vertical-align: top\">Methylosmoline</td>\n",
       "    </tr>\n",
       "    <tr>\n",
       "        <td style=\"padding-left: 1em; padding-right: 1em; text-align: center; vertical-align: top\">892322</td>\n",
       "        <td style=\"padding-left: 1em; padding-right: 1em; text-align: center; vertical-align: top\">0.279</td>\n",
       "        <td style=\"padding-left: 1em; padding-right: 1em; text-align: center; vertical-align: top\">Boonsri</td>\n",
       "        <td style=\"padding-left: 1em; padding-right: 1em; text-align: center; vertical-align: top\">21-Mar-14</td>\n",
       "        <td style=\"padding-left: 1em; padding-right: 1em; text-align: center; vertical-align: top\">Methylosmoline</td>\n",
       "    </tr>\n",
       "    <tr>\n",
       "        <td style=\"padding-left: 1em; padding-right: 1em; text-align: center; vertical-align: top\">889415</td>\n",
       "        <td style=\"padding-left: 1em; padding-right: 1em; text-align: center; vertical-align: top\">0.332</td>\n",
       "        <td style=\"padding-left: 1em; padding-right: 1em; text-align: center; vertical-align: top\">Boonsri</td>\n",
       "        <td style=\"padding-left: 1em; padding-right: 1em; text-align: center; vertical-align: top\">16-May-14</td>\n",
       "        <td style=\"padding-left: 1em; padding-right: 1em; text-align: center; vertical-align: top\">Methylosmoline</td>\n",
       "    </tr>\n",
       "    <tr>\n",
       "        <td style=\"padding-left: 1em; padding-right: 1em; text-align: center; vertical-align: top\">890960</td>\n",
       "        <td style=\"padding-left: 1em; padding-right: 1em; text-align: center; vertical-align: top\">0.252</td>\n",
       "        <td style=\"padding-left: 1em; padding-right: 1em; text-align: center; vertical-align: top\">Boonsri</td>\n",
       "        <td style=\"padding-left: 1em; padding-right: 1em; text-align: center; vertical-align: top\">16-May-14</td>\n",
       "        <td style=\"padding-left: 1em; padding-right: 1em; text-align: center; vertical-align: top\">Methylosmoline</td>\n",
       "    </tr>\n",
       "    <tr>\n",
       "        <td style=\"padding-left: 1em; padding-right: 1em; text-align: center; vertical-align: top\">892394</td>\n",
       "        <td style=\"padding-left: 1em; padding-right: 1em; text-align: center; vertical-align: top\">0.329</td>\n",
       "        <td style=\"padding-left: 1em; padding-right: 1em; text-align: center; vertical-align: top\">Boonsri</td>\n",
       "        <td style=\"padding-left: 1em; padding-right: 1em; text-align: center; vertical-align: top\">16-May-14</td>\n",
       "        <td style=\"padding-left: 1em; padding-right: 1em; text-align: center; vertical-align: top\">Methylosmoline</td>\n",
       "    </tr>\n",
       "    <tr>\n",
       "        <td style=\"padding-left: 1em; padding-right: 1em; text-align: center; vertical-align: top\">889464</td>\n",
       "        <td style=\"padding-left: 1em; padding-right: 1em; text-align: center; vertical-align: top\">0.288</td>\n",
       "        <td style=\"padding-left: 1em; padding-right: 1em; text-align: center; vertical-align: top\">Boonsri</td>\n",
       "        <td style=\"padding-left: 1em; padding-right: 1em; text-align: center; vertical-align: top\">20-Jun-14</td>\n",
       "        <td style=\"padding-left: 1em; padding-right: 1em; text-align: center; vertical-align: top\">Methylosmoline</td>\n",
       "    </tr>\n",
       "</table>\n",
       "[? rows x 5 columns]<br/>Note: Only the head of the SFrame is printed. This SFrame is lazily evaluated.<br/>You can use sf.materialize() to force materialization.\n",
       "</div>"
      ],
      "text/plain": [
       "Columns:\n",
       "\tid\tint\n",
       "\tvalue\tfloat\n",
       "\tlocation\tstr\n",
       "\tsample date\tstr\n",
       "\tmeasure\tstr\n",
       "\n",
       "Rows: Unknown\n",
       "\n",
       "Data:\n",
       "+--------+-------+----------+-------------+----------------+\n",
       "|   id   | value | location | sample date |    measure     |\n",
       "+--------+-------+----------+-------------+----------------+\n",
       "| 889270 | 0.263 | Boonsri  |  21-Feb-14  | Methylosmoline |\n",
       "| 890814 | 0.265 | Boonsri  |  21-Feb-14  | Methylosmoline |\n",
       "| 892249 |  0.33 | Boonsri  |  21-Feb-14  | Methylosmoline |\n",
       "| 889343 | 0.279 | Boonsri  |  21-Mar-14  | Methylosmoline |\n",
       "| 890887 | 0.327 | Boonsri  |  21-Mar-14  | Methylosmoline |\n",
       "| 892322 | 0.279 | Boonsri  |  21-Mar-14  | Methylosmoline |\n",
       "| 889415 | 0.332 | Boonsri  |  16-May-14  | Methylosmoline |\n",
       "| 890960 | 0.252 | Boonsri  |  16-May-14  | Methylosmoline |\n",
       "| 892394 | 0.329 | Boonsri  |  16-May-14  | Methylosmoline |\n",
       "| 889464 | 0.288 | Boonsri  |  20-Jun-14  | Methylosmoline |\n",
       "+--------+-------+----------+-------------+----------------+\n",
       "[? rows x 5 columns]\n",
       "Note: Only the head of the SFrame is printed. This SFrame is lazily evaluated.\n",
       "You can use sf.materialize() to force materialization."
      ]
     },
     "execution_count": 37,
     "metadata": {},
     "output_type": "execute_result"
    }
   ],
   "source": [
    "boonsri_Methylosmoline"
   ]
  },
  {
   "cell_type": "code",
   "execution_count": 38,
   "metadata": {
    "collapsed": true
   },
   "outputs": [],
   "source": [
    "boonsri_Methylosmoline_value = boonsri_Methylosmoline['value']"
   ]
  },
  {
   "cell_type": "code",
   "execution_count": 39,
   "metadata": {
    "collapsed": false
   },
   "outputs": [
    {
     "data": {
      "text/plain": [
       "0.001"
      ]
     },
     "execution_count": 39,
     "metadata": {},
     "output_type": "execute_result"
    }
   ],
   "source": [
    "boonsri_Methylosmoline_value.min()"
   ]
  },
  {
   "cell_type": "code",
   "execution_count": 40,
   "metadata": {
    "collapsed": false
   },
   "outputs": [
    {
     "data": {
      "text/plain": [
       "4.406"
      ]
     },
     "execution_count": 40,
     "metadata": {},
     "output_type": "execute_result"
    }
   ],
   "source": [
    "boonsri_Methylosmoline_value.max()"
   ]
  },
  {
   "cell_type": "code",
   "execution_count": 43,
   "metadata": {
    "collapsed": true
   },
   "outputs": [],
   "source": [
    "bmvalue_range = linspace(boonsri_Methylosmoline_value.min(), boonsri_Methylosmoline_value.max(), 10+1)"
   ]
  },
  {
   "cell_type": "code",
   "execution_count": 42,
   "metadata": {
    "collapsed": false
   },
   "outputs": [
    {
     "data": {
      "text/plain": [
       "array([  1.00000000e-03,   4.90444444e-01,   9.79888889e-01,\n",
       "         1.46933333e+00,   1.95877778e+00,   2.44822222e+00,\n",
       "         2.93766667e+00,   3.42711111e+00,   3.91655556e+00,\n",
       "         4.40600000e+00])"
      ]
     },
     "execution_count": 42,
     "metadata": {},
     "output_type": "execute_result"
    }
   ],
   "source": [
    "bmvalue_range"
   ]
  },
  {
   "cell_type": "code",
   "execution_count": 49,
   "metadata": {
    "collapsed": false
   },
   "outputs": [
    {
     "data": {
      "text/plain": [
       "(array([ 2.,  1.,  3., ...,  0.,  0.,  1.]),\n",
       " array([  1.00000000e-03,   3.20250000e-03,   5.40500000e-03, ...,\n",
       "          4.40159500e+00,   4.40379750e+00,   4.40600000e+00]),\n",
       " <a list of 2000 Patch objects>)"
      ]
     },
     "execution_count": 49,
     "metadata": {},
     "output_type": "execute_result"
    },
    {
     "data": {
      "image/png": "[encoded data removed]",
      "text/plain": [
       "<matplotlib.figure.Figure at 0x11df35b50>"
      ]
     },
     "metadata": {},
     "output_type": "display_data"
    }
   ],
   "source": [
    "pylab.hist(boonsri_Methylosmoline_value, bins=2000)"
   ]
  },
  {
   "cell_type": "code",
   "execution_count": 51,
   "metadata": {
    "collapsed": false
   },
   "outputs": [
    {
     "data": {
      "image/png": "[encoded data removed]",
      "text/plain": [
       "<matplotlib.figure.Figure at 0x124686c90>"
      ]
     },
     "metadata": {},
     "output_type": "display_data"
    }
   ],
   "source": [
    "r = pylab.boxplot(boonsri_Methylosmoline_value)"
   ]
  },
  {
   "cell_type": "code",
   "execution_count": 52,
   "metadata": {
    "collapsed": false
   },
   "outputs": [
    {
     "data": {
      "text/plain": [
       "{'boxes': [<matplotlib.lines.Line2D at 0x1250dda50>],\n",
       " 'caps': [<matplotlib.lines.Line2D at 0x1251a9810>,\n",
       "  <matplotlib.lines.Line2D at 0x1252071d0>],\n",
       " 'fliers': [<matplotlib.lines.Line2D at 0x1252b4510>],\n",
       " 'means': [],\n",
       " 'medians': [<matplotlib.lines.Line2D at 0x125257b50>],\n",
       " 'whiskers': [<matplotlib.lines.Line2D at 0x1250f84d0>,\n",
       "  <matplotlib.lines.Line2D at 0x12514ae50>]}"
      ]
     },
     "execution_count": 52,
     "metadata": {},
     "output_type": "execute_result"
    }
   ],
   "source": [
    "r"
   ]
  },
  {
   "cell_type": "code",
   "execution_count": 55,
   "metadata": {
    "collapsed": false
   },
   "outputs": [
    {
     "data": {
      "text/plain": [
       "array([ 4.406])"
      ]
     },
     "execution_count": 55,
     "metadata": {},
     "output_type": "execute_result"
    }
   ],
   "source": [
    "r['fliers'][0].get_data()[1]"
   ]
  },
  {
   "cell_type": "code",
   "execution_count": null,
   "metadata": {
    "collapsed": true
   },
   "outputs": [],
   "source": []
  }
 ],
 "metadata": {
  "kernelspec": {
   "display_name": "Python 2",
   "language": "python",
   "name": "python2"
  },
  "language_info": {
   "codemirror_mode": {
    "name": "ipython",
    "version": 2
   },
   "file_extension": ".py",
   "mimetype": "text/x-python",
   "name": "python",
   "nbconvert_exporter": "python",
   "pygments_lexer": "ipython2",
   "version": "2.7.13"
  }
 },
 "nbformat": 4,
 "nbformat_minor": 2
}
